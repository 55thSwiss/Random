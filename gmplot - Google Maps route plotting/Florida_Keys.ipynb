{
 "cells": [
  {
   "cell_type": "markdown",
   "metadata": {},
   "source": [
    "__Resources__"
   ]
  },
  {
   "cell_type": "markdown",
   "metadata": {},
   "source": [
    "[Geeks for Geeks - Plotting google map using gmplot](https://www.geeksforgeeks.org/python-plotting-google-map-using-gmplot-package/)\n",
    "\n",
    "[Tutorials Point - Plotting Google Map Using gmplot in Python](https://www.tutorialspoint.com/plotting-google-map-using-gmplot-package-in-python)"
   ]
  },
  {
   "cell_type": "markdown",
   "metadata": {},
   "source": [
    "__Import Dependencies__"
   ]
  },
  {
   "cell_type": "code",
   "execution_count": 29,
   "metadata": {},
   "outputs": [],
   "source": [
    "import gmplot\n",
    "import pandas as pd"
   ]
  },
  {
   "cell_type": "markdown",
   "metadata": {},
   "source": [
    "__Import Data__"
   ]
  },
  {
   "cell_type": "code",
   "execution_count": 30,
   "metadata": {},
   "outputs": [
    {
     "name": "stdout",
     "output_type": "stream",
     "text": [
      "Sample Data Points\n",
      "====================\n",
      "Naples_to_Homestead\n",
      "        lat3       lon4\n",
      "2  26.104515 -81.728440\n",
      "3  26.104515 -81.728440\n",
      "4  26.104515 -81.728439\n",
      "--------------------\n",
      "Homestead_to_Key_West\n",
      "        lat3       lon4\n",
      "2  25.455504 -80.474869\n",
      "3  25.455504 -80.474869\n",
      "4  25.455504 -80.474869\n",
      "--------------------\n",
      "Key_West_to_Ft_Myers_Beach\n",
      "        lat3       lon4\n",
      "2  26.452028 -81.947857\n",
      "3  26.452028 -81.947857\n",
      "4  26.452028 -81.947857\n",
      "--------------------\n",
      "Ft_Myers_Beach_to_Naples\n",
      "        lat3       lon4\n",
      "2  26.452028 -81.947857\n",
      "3  26.452028 -81.947857\n",
      "4  26.452028 -81.947857\n",
      "--------------------\n"
     ]
    }
   ],
   "source": [
    "csv_list = ['Naples_to_Homestead',\n",
    "            'Homestead_to_Key_West',\n",
    "            'Key_West_to_Ft_Myers_Beach',\n",
    "            'Ft_Myers_Beach_to_Naples',]\n",
    "\n",
    "df_dict = {csv: pd.read_csv('{}.csv'.format(csv)) for csv in csv_list}\n",
    "print('Sample Data Points')\n",
    "print('='*20)\n",
    "for route in csv_list:\n",
    "    df_dict[route] = df_dict[route][['lat3', 'lon4']]\n",
    "    df_dict[route].dropna(inplace=True)\n",
    "    print(route)\n",
    "    print(df_dict[route].head(3))\n",
    "    print('-'*20)"
   ]
  },
  {
   "cell_type": "markdown",
   "metadata": {},
   "source": [
    "__Create Map__"
   ]
  },
  {
   "cell_type": "code",
   "execution_count": null,
   "metadata": {},
   "outputs": [],
   "source": [
    "# gmap.apikey = your Google maps API key\n",
    "# gmap.apikey = your_api_key_here\n",
    "\n",
    "# create overall map, this is where and what size you see when opening the html file\n",
    "gmap = gmplot.GoogleMapPlotter(25.6, -81.2936107, 8) # lat, lon, and zoom\n",
    "\n",
    "# plots points from data frame with color and line thickness parameters\n",
    "gmap.plot(df_dict['Naples_to_Homestead']['lat3'].to_list(), df_dict['Naples_to_Homestead']['lon4'].to_list(),  \n",
    "           'magenta', edge_width = 3) \n",
    "gmap.plot(df_dict['Homestead_to_Key_West']['lat3'].to_list(), df_dict['Homestead_to_Key_West']['lon4'].to_list(),  \n",
    "           'cyan', edge_width = 3)\n",
    "gmap.plot(df_dict['Key_West_to_Ft_Myers_Beach']['lat3'].to_list(), df_dict['Key_West_to_Ft_Myers_Beach']['lon4'].to_list(), \n",
    "           'yellow', edge_width = 3)\n",
    "gmap.plot(df_dict['Ft_Myers_Beach_to_Naples']['lat3'].to_list(), df_dict['Ft_Myers_Beach_to_Naples']['lon4'].to_list(), \n",
    "           'cyan', edge_width = 3)\n",
    "\n",
    "gmap.draw('Key West Tour.html') "
   ]
  }
 ],
 "metadata": {
  "kernelspec": {
   "display_name": "Python 3",
   "language": "python",
   "name": "python3"
  },
  "language_info": {
   "codemirror_mode": {
    "name": "ipython",
    "version": 3
   },
   "file_extension": ".py",
   "mimetype": "text/x-python",
   "name": "python",
   "nbconvert_exporter": "python",
   "pygments_lexer": "ipython3",
   "version": "3.7.3"
  }
 },
 "nbformat": 4,
 "nbformat_minor": 2
}
