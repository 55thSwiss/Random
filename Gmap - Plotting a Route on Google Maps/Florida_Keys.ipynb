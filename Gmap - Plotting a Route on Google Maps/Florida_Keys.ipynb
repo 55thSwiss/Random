{
 "cells": [
  {
   "cell_type": "markdown",
   "metadata": {},
   "source": [
    "__Resources__"
   ]
  },
  {
   "cell_type": "markdown",
   "metadata": {},
   "source": [
    "[Geeks for Geeks - Plotting google map using gmplot](https://www.geeksforgeeks.org/python-plotting-google-map-using-gmplot-package/)\n",
    "\n",
    "[Tutorials Point - Plotting Google Map Using gmplot in Python](https://www.tutorialspoint.com/plotting-google-map-using-gmplot-package-in-python)"
   ]
  },
  {
   "cell_type": "markdown",
   "metadata": {},
   "source": [
    "__Import Dependencies__"
   ]
  },
  {
   "cell_type": "code",
   "execution_count": 2,
   "metadata": {},
   "outputs": [],
   "source": [
    "import gmplot\n",
    "import pandas as pd"
   ]
  },
  {
   "cell_type": "markdown",
   "metadata": {},
   "source": [
    "__Import Data__"
   ]
  },
  {
   "cell_type": "code",
   "execution_count": 3,
   "metadata": {},
   "outputs": [],
   "source": [
    "naples_to_homestead = pd.read_csv('Naples_to_Homestead.csv')\n",
    "naples_to_homestead = naples_to_homestead[['lat3', 'lon4']]\n",
    "naples_to_homestead.dropna(inplace=True)"
   ]
  },
  {
   "cell_type": "code",
   "execution_count": 4,
   "metadata": {},
   "outputs": [],
   "source": [
    "homestead_to_key_west = pd.read_csv('Homestead_to_Key_West.csv')\n",
    "homestead_to_key_west = homestead_to_key_west[['lat3', 'lon4']]\n",
    "homestead_to_key_west.dropna(inplace=True)"
   ]
  },
  {
   "cell_type": "code",
   "execution_count": 5,
   "metadata": {},
   "outputs": [],
   "source": [
    "key_west_to_ft_myers_beach = pd.read_csv('Key_West_to_Ft_Myers_Beach.csv')\n",
    "key_west_to_ft_myers_beach = key_west_to_ft_myers_beach[['lat3', 'lon4']]\n",
    "key_west_to_ft_myers_beach.dropna(inplace=True)"
   ]
  },
  {
   "cell_type": "code",
   "execution_count": 6,
   "metadata": {},
   "outputs": [],
   "source": [
    "ft_myers_beach_to_naples = pd.read_csv('Ft_Myers_Beach_to_Naples.csv')\n",
    "ft_myers_beach_to_naples = ft_myers_beach_to_naples[['lat3', 'lon4']]\n",
    "ft_myers_beach_to_naples.dropna(inplace=True)"
   ]
  },
  {
   "cell_type": "markdown",
   "metadata": {},
   "source": [
    "__Create Map__"
   ]
  },
  {
   "cell_type": "code",
   "execution_count": 7,
   "metadata": {},
   "outputs": [],
   "source": [
    "# gmap.apikey = your Google maps API key\n",
    "# gmap3.apikey = your_api_key_here\n",
    "\n",
    "# create overall map, this is where and what size you see when opening the html file\n",
    "gmap = gmplot.GoogleMapPlotter(25.6, -81.2936107, 8) # lat, lon, and zoom\n",
    "\n",
    "# plots points from data frame with color and line thickness parameters\n",
    "gmap.plot(naples_to_homestead['lat3'].to_list(), naples_to_homestead['lon4'].to_list(),  \n",
    "           'cyan', edge_width = 3) \n",
    "gmap.plot(homestead_to_key_west['lat3'].to_list(), homestead_to_key_west['lon4'].to_list(),  \n",
    "           'magenta', edge_width = 3)\n",
    "gmap.plot(key_west_to_ft_myers_beach['lat3'].to_list(), key_west_to_ft_myers_beach['lon4'].to_list(), \n",
    "           'yellow', edge_width = 3)\n",
    "gmap.plot(ft_myers_beach_to_naples['lat3'].to_list(), ft_myers_beach_to_naples['lon4'].to_list(), \n",
    "           'magenta', edge_width = 3)\n",
    "\n",
    "gmap.draw('Key West Tour.html') "
   ]
  }
 ],
 "metadata": {
  "kernelspec": {
   "display_name": "Python 3",
   "language": "python",
   "name": "python3"
  },
  "language_info": {
   "codemirror_mode": {
    "name": "ipython",
    "version": 3
   },
   "file_extension": ".py",
   "mimetype": "text/x-python",
   "name": "python",
   "nbconvert_exporter": "python",
   "pygments_lexer": "ipython3",
   "version": "3.7.3"
  }
 },
 "nbformat": 4,
 "nbformat_minor": 2
}
